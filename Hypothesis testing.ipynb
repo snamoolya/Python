{
 "cells": [
  {
   "cell_type": "code",
   "execution_count": 1,
   "id": "fcb89f95",
   "metadata": {},
   "outputs": [],
   "source": [
    "import os, numpy as np, pandas as pd"
   ]
  },
  {
   "cell_type": "code",
   "execution_count": 2,
   "id": "974d819f",
   "metadata": {},
   "outputs": [],
   "source": [
    "os.chdir(\"E:\\Machine learning course\\Raw data\")"
   ]
  },
  {
   "cell_type": "code",
   "execution_count": 3,
   "id": "171f2511",
   "metadata": {},
   "outputs": [],
   "source": [
    "nortel = pd.read_csv(\"nortel.csv\")"
   ]
  },
  {
   "cell_type": "code",
   "execution_count": 4,
   "id": "f61a9ad6",
   "metadata": {},
   "outputs": [
    {
     "data": {
      "text/html": [
       "<div>\n",
       "<style scoped>\n",
       "    .dataframe tbody tr th:only-of-type {\n",
       "        vertical-align: middle;\n",
       "    }\n",
       "\n",
       "    .dataframe tbody tr th {\n",
       "        vertical-align: top;\n",
       "    }\n",
       "\n",
       "    .dataframe thead th {\n",
       "        text-align: right;\n",
       "    }\n",
       "</style>\n",
       "<table border=\"1\" class=\"dataframe\">\n",
       "  <thead>\n",
       "    <tr style=\"text-align: right;\">\n",
       "      <th></th>\n",
       "      <th>Acc_no</th>\n",
       "      <th>REG_No</th>\n",
       "      <th>Reg_date</th>\n",
       "      <th>Comp_date</th>\n",
       "      <th>Month_year</th>\n",
       "      <th>RP</th>\n",
       "      <th>RS</th>\n",
       "      <th>Unit</th>\n",
       "      <th>IR</th>\n",
       "      <th>Performance</th>\n",
       "      <th>OverallPer</th>\n",
       "      <th>t_respond</th>\n",
       "      <th>Understand</th>\n",
       "      <th>t_resolve</th>\n",
       "      <th>s_equipment</th>\n",
       "      <th>s_Del</th>\n",
       "      <th>speak</th>\n",
       "      <th>adv_status</th>\n",
       "    </tr>\n",
       "  </thead>\n",
       "  <tbody>\n",
       "    <tr>\n",
       "      <th>0</th>\n",
       "      <td>CST-H514-H3H</td>\n",
       "      <td>NaN</td>\n",
       "      <td>5/14/2004</td>\n",
       "      <td>5/25/2005</td>\n",
       "      <td>2005-05</td>\n",
       "      <td>4 - L</td>\n",
       "      <td>4-C_problem</td>\n",
       "      <td>GPK</td>\n",
       "      <td>Solved</td>\n",
       "      <td>None</td>\n",
       "      <td>60</td>\n",
       "      <td>60</td>\n",
       "      <td>60</td>\n",
       "      <td>60</td>\n",
       "      <td>NaN</td>\n",
       "      <td>NaN</td>\n",
       "      <td>60.0</td>\n",
       "      <td>60.0</td>\n",
       "    </tr>\n",
       "    <tr>\n",
       "      <th>1</th>\n",
       "      <td>CST-H7H6-HH28</td>\n",
       "      <td>CZK3B39B</td>\n",
       "      <td>6/7/2004</td>\n",
       "      <td>8/6/2005</td>\n",
       "      <td>2005-06</td>\n",
       "      <td>3 - M</td>\n",
       "      <td>3-Minor</td>\n",
       "      <td>GPK</td>\n",
       "      <td>Solved</td>\n",
       "      <td>None</td>\n",
       "      <td>80</td>\n",
       "      <td>90</td>\n",
       "      <td>90</td>\n",
       "      <td>90</td>\n",
       "      <td>NaN</td>\n",
       "      <td>80.0</td>\n",
       "      <td>90.0</td>\n",
       "      <td>90.0</td>\n",
       "    </tr>\n",
       "    <tr>\n",
       "      <th>2</th>\n",
       "      <td>CST-H9H1-HH86</td>\n",
       "      <td>NaN</td>\n",
       "      <td>1/9/2004</td>\n",
       "      <td>3/5/2005</td>\n",
       "      <td>2005-05</td>\n",
       "      <td>3 - M</td>\n",
       "      <td>4-C_problem</td>\n",
       "      <td>RPLCDS</td>\n",
       "      <td>Solved</td>\n",
       "      <td>Red</td>\n",
       "      <td>40</td>\n",
       "      <td>100</td>\n",
       "      <td>100</td>\n",
       "      <td>50</td>\n",
       "      <td>NaN</td>\n",
       "      <td>NaN</td>\n",
       "      <td>90.0</td>\n",
       "      <td>100.0</td>\n",
       "    </tr>\n",
       "    <tr>\n",
       "      <th>3</th>\n",
       "      <td>CST-1H29-H233</td>\n",
       "      <td>NaN</td>\n",
       "      <td>10/29/2004</td>\n",
       "      <td>5/27/2005</td>\n",
       "      <td>2005-05</td>\n",
       "      <td>2 - H</td>\n",
       "      <td>2-Major</td>\n",
       "      <td>RPLCDS</td>\n",
       "      <td>Solved</td>\n",
       "      <td>None</td>\n",
       "      <td>60</td>\n",
       "      <td>90</td>\n",
       "      <td>90</td>\n",
       "      <td>80</td>\n",
       "      <td>NaN</td>\n",
       "      <td>NaN</td>\n",
       "      <td>80.0</td>\n",
       "      <td>80.0</td>\n",
       "    </tr>\n",
       "    <tr>\n",
       "      <th>4</th>\n",
       "      <td>CST-11H2-H312</td>\n",
       "      <td>CZK26998</td>\n",
       "      <td>2/11/2004</td>\n",
       "      <td>9/5/2005</td>\n",
       "      <td>2005-05</td>\n",
       "      <td>3 - M</td>\n",
       "      <td>3-Minor</td>\n",
       "      <td>GPK</td>\n",
       "      <td>Solved</td>\n",
       "      <td>Red</td>\n",
       "      <td>40</td>\n",
       "      <td>80</td>\n",
       "      <td>80</td>\n",
       "      <td>10</td>\n",
       "      <td>NaN</td>\n",
       "      <td>100.0</td>\n",
       "      <td>90.0</td>\n",
       "      <td>90.0</td>\n",
       "    </tr>\n",
       "  </tbody>\n",
       "</table>\n",
       "</div>"
      ],
      "text/plain": [
       "          Acc_no    REG_No    Reg_date  Comp_date Month_year     RP  \\\n",
       "0   CST-H514-H3H       NaN   5/14/2004  5/25/2005    2005-05  4 - L   \n",
       "1  CST-H7H6-HH28  CZK3B39B    6/7/2004   8/6/2005    2005-06  3 - M   \n",
       "2  CST-H9H1-HH86       NaN    1/9/2004   3/5/2005    2005-05  3 - M   \n",
       "3  CST-1H29-H233       NaN  10/29/2004  5/27/2005    2005-05  2 - H   \n",
       "4  CST-11H2-H312  CZK26998   2/11/2004   9/5/2005    2005-05  3 - M   \n",
       "\n",
       "            RS    Unit      IR Performance  OverallPer  t_respond  Understand  \\\n",
       "0  4-C_problem     GPK  Solved        None          60         60          60   \n",
       "1      3-Minor     GPK  Solved        None          80         90          90   \n",
       "2  4-C_problem  RPLCDS  Solved         Red          40        100         100   \n",
       "3      2-Major  RPLCDS  Solved        None          60         90          90   \n",
       "4      3-Minor     GPK  Solved         Red          40         80          80   \n",
       "\n",
       "   t_resolve  s_equipment  s_Del  speak  adv_status  \n",
       "0         60          NaN    NaN   60.0        60.0  \n",
       "1         90          NaN   80.0   90.0        90.0  \n",
       "2         50          NaN    NaN   90.0       100.0  \n",
       "3         80          NaN    NaN   80.0        80.0  \n",
       "4         10          NaN  100.0   90.0        90.0  "
      ]
     },
     "execution_count": 4,
     "metadata": {},
     "output_type": "execute_result"
    }
   ],
   "source": [
    "nortel.head()"
   ]
  },
  {
   "cell_type": "markdown",
   "id": "30b92600",
   "metadata": {},
   "source": [
    "### onesample t test"
   ]
  },
  {
   "cell_type": "code",
   "execution_count": 6,
   "id": "04d1b98c",
   "metadata": {},
   "outputs": [],
   "source": [
    "from scipy.stats import ttest_1samp"
   ]
  },
  {
   "cell_type": "code",
   "execution_count": 7,
   "id": "ec1b7c31",
   "metadata": {},
   "outputs": [],
   "source": [
    "tsocre,pvalue= ttest_1samp(nortel[\"OverallPer\"],popmean=75)"
   ]
  },
  {
   "cell_type": "code",
   "execution_count": 8,
   "id": "2938b6c2",
   "metadata": {},
   "outputs": [
    {
     "data": {
      "text/plain": [
       "(5.49820213421482, 4.141831983513732e-08)"
      ]
     },
     "execution_count": 8,
     "metadata": {},
     "output_type": "execute_result"
    }
   ],
   "source": [
    "tsocre,pvalue"
   ]
  },
  {
   "cell_type": "code",
   "execution_count": 9,
   "id": "ca3205b3",
   "metadata": {},
   "outputs": [
    {
     "data": {
      "text/plain": [
       "77.73316471704078"
      ]
     },
     "execution_count": 9,
     "metadata": {},
     "output_type": "execute_result"
    }
   ],
   "source": [
    "nortel[\"OverallPer\"].mean()"
   ]
  },
  {
   "cell_type": "code",
   "execution_count": 10,
   "id": "19463363",
   "metadata": {},
   "outputs": [],
   "source": [
    "tsocre,pvalue= ttest_1samp(nortel[nortel[\"Unit\"]==\"GPK\"][\"OverallPer\"],popmean=70)"
   ]
  },
  {
   "cell_type": "code",
   "execution_count": 11,
   "id": "7e08c7cc",
   "metadata": {},
   "outputs": [
    {
     "data": {
      "text/plain": [
       "(15.443150756614052, 2.233460456401153e-48)"
      ]
     },
     "execution_count": 11,
     "metadata": {},
     "output_type": "execute_result"
    }
   ],
   "source": [
    "tsocre,pvalue"
   ]
  },
  {
   "cell_type": "code",
   "execution_count": 12,
   "id": "5e4e4d6a",
   "metadata": {},
   "outputs": [
    {
     "data": {
      "text/plain": [
       "82.12487411883183"
      ]
     },
     "execution_count": 12,
     "metadata": {},
     "output_type": "execute_result"
    }
   ],
   "source": [
    "nortel[nortel[\"Unit\"]==\"GPK\"][\"OverallPer\"].mean()"
   ]
  },
  {
   "cell_type": "markdown",
   "id": "14606371",
   "metadata": {},
   "source": [
    "## 2 sample t test"
   ]
  },
  {
   "cell_type": "code",
   "execution_count": 13,
   "id": "856b8b49",
   "metadata": {},
   "outputs": [],
   "source": [
    "Overall_IR_yes= nortel[nortel['IR']=='Solved']['OverallPer']\n",
    "Overall_IR_No= nortel[nortel['IR']=='No']['OverallPer']"
   ]
  },
  {
   "cell_type": "code",
   "execution_count": 14,
   "id": "b4ca6620",
   "metadata": {},
   "outputs": [
    {
     "data": {
      "text/plain": [
       "Ttest_indResult(statistic=17.17769278863142, pvalue=2.674032026820951e-63)"
      ]
     },
     "execution_count": 14,
     "metadata": {},
     "output_type": "execute_result"
    }
   ],
   "source": [
    "from scipy.stats import stats\n",
    "stats.ttest_ind(a=Overall_IR_yes,b = Overall_IR_No, equal_var=True) # there is significant diff bw overall per when issue is resolved n not resolved"
   ]
  },
  {
   "cell_type": "code",
   "execution_count": 15,
   "id": "5f8d5c14",
   "metadata": {},
   "outputs": [
    {
     "data": {
      "text/plain": [
       "79.47768595041322"
      ]
     },
     "execution_count": 15,
     "metadata": {},
     "output_type": "execute_result"
    }
   ],
   "source": [
    "nortel[nortel['IR']=='Solved']['OverallPer'].mean()"
   ]
  },
  {
   "cell_type": "code",
   "execution_count": 16,
   "id": "f9f650e9",
   "metadata": {},
   "outputs": [
    {
     "data": {
      "text/plain": [
       "39.492753623188406"
      ]
     },
     "execution_count": 16,
     "metadata": {},
     "output_type": "execute_result"
    }
   ],
   "source": [
    "nortel[nortel['IR']=='No']['OverallPer'].mean()"
   ]
  },
  {
   "cell_type": "code",
   "execution_count": 17,
   "id": "bd785132",
   "metadata": {},
   "outputs": [
    {
     "data": {
      "text/plain": [
       "693.2456163365257"
      ]
     },
     "execution_count": 17,
     "metadata": {},
     "output_type": "execute_result"
    }
   ],
   "source": [
    "nortel[nortel['IR']=='Solved']['OverallPer'].var()"
   ]
  },
  {
   "cell_type": "code",
   "execution_count": 18,
   "id": "f984a5fc",
   "metadata": {},
   "outputs": [
    {
     "data": {
      "text/plain": [
       "1197.5510419972486"
      ]
     },
     "execution_count": 18,
     "metadata": {},
     "output_type": "execute_result"
    }
   ],
   "source": [
    "nortel[nortel['IR']=='No']['OverallPer'].var()"
   ]
  },
  {
   "cell_type": "code",
   "execution_count": 19,
   "id": "3678e1be",
   "metadata": {},
   "outputs": [
    {
     "data": {
      "text/plain": [
       "Ttest_indResult(statistic=13.397653222632687, pvalue=4.175124306318692e-27)"
      ]
     },
     "execution_count": 19,
     "metadata": {},
     "output_type": "execute_result"
    }
   ],
   "source": [
    "# give equal_var= false when there huge difference in variance, if not give it as true, this you get when u cal variance values\n",
    "stats.ttest_ind(a=Overall_IR_yes,b = Overall_IR_No, equal_var=False)"
   ]
  },
  {
   "cell_type": "markdown",
   "id": "e7778a25",
   "metadata": {},
   "source": [
    "##  2 more than 2 samples means ANOVA"
   ]
  },
  {
   "cell_type": "code",
   "execution_count": 20,
   "id": "a57f2c68",
   "metadata": {},
   "outputs": [],
   "source": [
    "# to check if avg overall per differs bw three groups- GPA,GPK, RPLCDS"
   ]
  },
  {
   "cell_type": "code",
   "execution_count": 21,
   "id": "abb9ea98",
   "metadata": {},
   "outputs": [
    {
     "name": "stdout",
     "output_type": "stream",
     "text": [
      "Collecting researchpy\n",
      "  Downloading researchpy-0.3.2-py3-none-any.whl (15 kB)\n",
      "Requirement already satisfied: pandas in c:\\users\\amulya\\anaconda3\\lib\\site-packages (from researchpy) (1.2.4)\n",
      "Requirement already satisfied: numpy in c:\\users\\amulya\\anaconda3\\lib\\site-packages (from researchpy) (1.20.1)\n",
      "Requirement already satisfied: statsmodels in c:\\users\\amulya\\anaconda3\\lib\\site-packages (from researchpy) (0.12.2)\n",
      "Requirement already satisfied: scipy in c:\\users\\amulya\\anaconda3\\lib\\site-packages (from researchpy) (1.6.2)\n",
      "Requirement already satisfied: patsy in c:\\users\\amulya\\anaconda3\\lib\\site-packages (from researchpy) (0.5.1)\n",
      "Requirement already satisfied: pytz>=2017.3 in c:\\users\\amulya\\anaconda3\\lib\\site-packages (from pandas->researchpy) (2021.1)\n",
      "Requirement already satisfied: python-dateutil>=2.7.3 in c:\\users\\amulya\\anaconda3\\lib\\site-packages (from pandas->researchpy) (2.8.1)\n",
      "Requirement already satisfied: six>=1.5 in c:\\users\\amulya\\anaconda3\\lib\\site-packages (from python-dateutil>=2.7.3->pandas->researchpy) (1.15.0)\n",
      "Installing collected packages: researchpy\n",
      "Successfully installed researchpy-0.3.2\n"
     ]
    }
   ],
   "source": [
    "!pip install researchpy"
   ]
  },
  {
   "cell_type": "code",
   "execution_count": 22,
   "id": "596b8fa9",
   "metadata": {},
   "outputs": [],
   "source": [
    "import researchpy as rp"
   ]
  },
  {
   "cell_type": "code",
   "execution_count": 23,
   "id": "c9acae3a",
   "metadata": {},
   "outputs": [
    {
     "name": "stdout",
     "output_type": "stream",
     "text": [
      "\n",
      "\n"
     ]
    },
    {
     "data": {
      "text/html": [
       "<div>\n",
       "<style scoped>\n",
       "    .dataframe tbody tr th:only-of-type {\n",
       "        vertical-align: middle;\n",
       "    }\n",
       "\n",
       "    .dataframe tbody tr th {\n",
       "        vertical-align: top;\n",
       "    }\n",
       "\n",
       "    .dataframe thead th {\n",
       "        text-align: right;\n",
       "    }\n",
       "</style>\n",
       "<table border=\"1\" class=\"dataframe\">\n",
       "  <thead>\n",
       "    <tr style=\"text-align: right;\">\n",
       "      <th></th>\n",
       "      <th>Variable</th>\n",
       "      <th>N</th>\n",
       "      <th>Mean</th>\n",
       "      <th>SD</th>\n",
       "      <th>SE</th>\n",
       "      <th>95% Conf.</th>\n",
       "      <th>Interval</th>\n",
       "    </tr>\n",
       "  </thead>\n",
       "  <tbody>\n",
       "    <tr>\n",
       "      <th>0</th>\n",
       "      <td>OverallPer</td>\n",
       "      <td>3163.0</td>\n",
       "      <td>77.7332</td>\n",
       "      <td>27.9573</td>\n",
       "      <td>0.4971</td>\n",
       "      <td>76.7585</td>\n",
       "      <td>78.7078</td>\n",
       "    </tr>\n",
       "  </tbody>\n",
       "</table>\n",
       "</div>"
      ],
      "text/plain": [
       "     Variable       N     Mean       SD      SE  95% Conf.  Interval\n",
       "0  OverallPer  3163.0  77.7332  27.9573  0.4971    76.7585   78.7078"
      ]
     },
     "execution_count": 23,
     "metadata": {},
     "output_type": "execute_result"
    }
   ],
   "source": [
    "rp.summary_cont(nortel['OverallPer'])"
   ]
  },
  {
   "cell_type": "code",
   "execution_count": 24,
   "id": "beb7273c",
   "metadata": {},
   "outputs": [],
   "source": [
    "# the CI says the performance can be 76.75 and can go upto 78.7 - interval estimate, the overall per will range w/i this\n",
    "# mean gives point estimate = 77.733"
   ]
  },
  {
   "cell_type": "code",
   "execution_count": 25,
   "id": "868157e1",
   "metadata": {},
   "outputs": [
    {
     "name": "stdout",
     "output_type": "stream",
     "text": [
      "\n",
      "\n"
     ]
    },
    {
     "data": {
      "text/html": [
       "<div>\n",
       "<style scoped>\n",
       "    .dataframe tbody tr th:only-of-type {\n",
       "        vertical-align: middle;\n",
       "    }\n",
       "\n",
       "    .dataframe tbody tr th {\n",
       "        vertical-align: top;\n",
       "    }\n",
       "\n",
       "    .dataframe thead th {\n",
       "        text-align: right;\n",
       "    }\n",
       "</style>\n",
       "<table border=\"1\" class=\"dataframe\">\n",
       "  <thead>\n",
       "    <tr style=\"text-align: right;\">\n",
       "      <th></th>\n",
       "      <th>Variable</th>\n",
       "      <th>N</th>\n",
       "      <th>Mean</th>\n",
       "      <th>SD</th>\n",
       "      <th>SE</th>\n",
       "      <th>99% Conf.</th>\n",
       "      <th>Interval</th>\n",
       "    </tr>\n",
       "  </thead>\n",
       "  <tbody>\n",
       "    <tr>\n",
       "      <th>0</th>\n",
       "      <td>OverallPer</td>\n",
       "      <td>3163.0</td>\n",
       "      <td>77.7332</td>\n",
       "      <td>27.9573</td>\n",
       "      <td>0.4971</td>\n",
       "      <td>76.4519</td>\n",
       "      <td>79.0144</td>\n",
       "    </tr>\n",
       "  </tbody>\n",
       "</table>\n",
       "</div>"
      ],
      "text/plain": [
       "     Variable       N     Mean       SD      SE  99% Conf.  Interval\n",
       "0  OverallPer  3163.0  77.7332  27.9573  0.4971    76.4519   79.0144"
      ]
     },
     "execution_count": 25,
     "metadata": {},
     "output_type": "execute_result"
    }
   ],
   "source": [
    "rp.summary_cont(nortel['OverallPer'], conf=0.99) # to get 99% CI"
   ]
  },
  {
   "cell_type": "code",
   "execution_count": 26,
   "id": "00ae5c82",
   "metadata": {},
   "outputs": [
    {
     "name": "stdout",
     "output_type": "stream",
     "text": [
      "\n",
      "\n"
     ]
    },
    {
     "data": {
      "text/html": [
       "<div>\n",
       "<style scoped>\n",
       "    .dataframe tbody tr th:only-of-type {\n",
       "        vertical-align: middle;\n",
       "    }\n",
       "\n",
       "    .dataframe tbody tr th {\n",
       "        vertical-align: top;\n",
       "    }\n",
       "\n",
       "    .dataframe thead th {\n",
       "        text-align: right;\n",
       "    }\n",
       "</style>\n",
       "<table border=\"1\" class=\"dataframe\">\n",
       "  <thead>\n",
       "    <tr style=\"text-align: right;\">\n",
       "      <th></th>\n",
       "      <th>N</th>\n",
       "      <th>Mean</th>\n",
       "      <th>SD</th>\n",
       "      <th>SE</th>\n",
       "      <th>95% Conf.</th>\n",
       "      <th>Interval</th>\n",
       "    </tr>\n",
       "    <tr>\n",
       "      <th>Unit</th>\n",
       "      <th></th>\n",
       "      <th></th>\n",
       "      <th></th>\n",
       "      <th></th>\n",
       "      <th></th>\n",
       "      <th></th>\n",
       "    </tr>\n",
       "  </thead>\n",
       "  <tbody>\n",
       "    <tr>\n",
       "      <th>GPA</th>\n",
       "      <td>11</td>\n",
       "      <td>70.9091</td>\n",
       "      <td>17.0027</td>\n",
       "      <td>5.1265</td>\n",
       "      <td>59.4865</td>\n",
       "      <td>82.3316</td>\n",
       "    </tr>\n",
       "    <tr>\n",
       "      <th>GPK</th>\n",
       "      <td>993</td>\n",
       "      <td>82.1249</td>\n",
       "      <td>24.7409</td>\n",
       "      <td>0.7851</td>\n",
       "      <td>80.5842</td>\n",
       "      <td>83.6656</td>\n",
       "    </tr>\n",
       "    <tr>\n",
       "      <th>Not</th>\n",
       "      <td>3</td>\n",
       "      <td>56.6667</td>\n",
       "      <td>51.3160</td>\n",
       "      <td>29.6273</td>\n",
       "      <td>-70.8094</td>\n",
       "      <td>184.1427</td>\n",
       "    </tr>\n",
       "    <tr>\n",
       "      <th>RPLCDS</th>\n",
       "      <td>2156</td>\n",
       "      <td>75.7746</td>\n",
       "      <td>29.1154</td>\n",
       "      <td>0.6270</td>\n",
       "      <td>74.5449</td>\n",
       "      <td>77.0043</td>\n",
       "    </tr>\n",
       "  </tbody>\n",
       "</table>\n",
       "</div>"
      ],
      "text/plain": [
       "           N     Mean       SD       SE  95% Conf.  Interval\n",
       "Unit                                                        \n",
       "GPA       11  70.9091  17.0027   5.1265    59.4865   82.3316\n",
       "GPK      993  82.1249  24.7409   0.7851    80.5842   83.6656\n",
       "Not        3  56.6667  51.3160  29.6273   -70.8094  184.1427\n",
       "RPLCDS  2156  75.7746  29.1154   0.6270    74.5449   77.0043"
      ]
     },
     "execution_count": 26,
     "metadata": {},
     "output_type": "execute_result"
    }
   ],
   "source": [
    "rp.summary_cont(nortel['OverallPer'].groupby(nortel['Unit']))"
   ]
  },
  {
   "cell_type": "code",
   "execution_count": 27,
   "id": "40b29e81",
   "metadata": {},
   "outputs": [
    {
     "name": "stdout",
     "output_type": "stream",
     "text": [
      "\n",
      "\n"
     ]
    },
    {
     "data": {
      "text/html": [
       "<div>\n",
       "<style scoped>\n",
       "    .dataframe tbody tr th:only-of-type {\n",
       "        vertical-align: middle;\n",
       "    }\n",
       "\n",
       "    .dataframe tbody tr th {\n",
       "        vertical-align: top;\n",
       "    }\n",
       "\n",
       "    .dataframe thead th {\n",
       "        text-align: right;\n",
       "    }\n",
       "</style>\n",
       "<table border=\"1\" class=\"dataframe\">\n",
       "  <thead>\n",
       "    <tr style=\"text-align: right;\">\n",
       "      <th></th>\n",
       "      <th>N</th>\n",
       "      <th>Mean</th>\n",
       "      <th>SD</th>\n",
       "      <th>SE</th>\n",
       "      <th>99% Conf.</th>\n",
       "      <th>Interval</th>\n",
       "    </tr>\n",
       "    <tr>\n",
       "      <th>Unit</th>\n",
       "      <th></th>\n",
       "      <th></th>\n",
       "      <th></th>\n",
       "      <th></th>\n",
       "      <th></th>\n",
       "      <th></th>\n",
       "    </tr>\n",
       "  </thead>\n",
       "  <tbody>\n",
       "    <tr>\n",
       "      <th>GPA</th>\n",
       "      <td>11</td>\n",
       "      <td>70.9091</td>\n",
       "      <td>17.0027</td>\n",
       "      <td>5.1265</td>\n",
       "      <td>54.6618</td>\n",
       "      <td>87.1564</td>\n",
       "    </tr>\n",
       "    <tr>\n",
       "      <th>GPK</th>\n",
       "      <td>993</td>\n",
       "      <td>82.1249</td>\n",
       "      <td>24.7409</td>\n",
       "      <td>0.7851</td>\n",
       "      <td>80.0986</td>\n",
       "      <td>84.1511</td>\n",
       "    </tr>\n",
       "    <tr>\n",
       "      <th>RPLCDS</th>\n",
       "      <td>2156</td>\n",
       "      <td>75.7746</td>\n",
       "      <td>29.1154</td>\n",
       "      <td>0.6270</td>\n",
       "      <td>74.1580</td>\n",
       "      <td>77.3912</td>\n",
       "    </tr>\n",
       "  </tbody>\n",
       "</table>\n",
       "</div>"
      ],
      "text/plain": [
       "           N     Mean       SD      SE  99% Conf.  Interval\n",
       "Unit                                                       \n",
       "GPA       11  70.9091  17.0027  5.1265    54.6618   87.1564\n",
       "GPK      993  82.1249  24.7409  0.7851    80.0986   84.1511\n",
       "RPLCDS  2156  75.7746  29.1154  0.6270    74.1580   77.3912"
      ]
     },
     "execution_count": 27,
     "metadata": {},
     "output_type": "execute_result"
    }
   ],
   "source": [
    "nortel2 = nortel[nortel['Unit']!='Not'] # to remove not\n",
    "rp.summary_cont(nortel2['OverallPer'].groupby(nortel2['Unit']),conf=0.99)"
   ]
  },
  {
   "cell_type": "code",
   "execution_count": 28,
   "id": "a776666f",
   "metadata": {},
   "outputs": [
    {
     "data": {
      "text/plain": [
       "F_onewayResult(statistic=18.093861515720143, pvalue=1.5368512826350375e-08)"
      ]
     },
     "execution_count": 28,
     "metadata": {},
     "output_type": "execute_result"
    }
   ],
   "source": [
    "stats.f_oneway(nortel['OverallPer'][nortel['Unit']=='GPA'],\n",
    "            nortel['OverallPer'][nortel['Unit']=='GPK'],\n",
    "                nortel['OverallPer'][nortel['Unit']=='RPLCDS'])"
   ]
  },
  {
   "cell_type": "markdown",
   "id": "5ce7fad3",
   "metadata": {},
   "source": [
    "##chi square test"
   ]
  },
  {
   "cell_type": "code",
   "execution_count": 29,
   "id": "4fa7d044",
   "metadata": {},
   "outputs": [],
   "source": [
    "nortel['Overall_sat']= nortel['OverallPer'].map(lambda x :1 if x>=80 else 0)"
   ]
  },
  {
   "cell_type": "code",
   "execution_count": 30,
   "id": "13f12cb8",
   "metadata": {},
   "outputs": [
    {
     "data": {
      "text/plain": [
       "1    2228\n",
       "0     935\n",
       "Name: Overall_sat, dtype: int64"
      ]
     },
     "execution_count": 30,
     "metadata": {},
     "output_type": "execute_result"
    }
   ],
   "source": [
    "nortel['Overall_sat'].value_counts()"
   ]
  },
  {
   "cell_type": "code",
   "execution_count": 31,
   "id": "282d3b2d",
   "metadata": {},
   "outputs": [],
   "source": [
    "contingency = pd.crosstab(nortel['IR'], nortel['Overall_sat'])"
   ]
  },
  {
   "cell_type": "code",
   "execution_count": 32,
   "id": "27cb8fc5",
   "metadata": {},
   "outputs": [
    {
     "data": {
      "text/html": [
       "<div>\n",
       "<style scoped>\n",
       "    .dataframe tbody tr th:only-of-type {\n",
       "        vertical-align: middle;\n",
       "    }\n",
       "\n",
       "    .dataframe tbody tr th {\n",
       "        vertical-align: top;\n",
       "    }\n",
       "\n",
       "    .dataframe thead th {\n",
       "        text-align: right;\n",
       "    }\n",
       "</style>\n",
       "<table border=\"1\" class=\"dataframe\">\n",
       "  <thead>\n",
       "    <tr style=\"text-align: right;\">\n",
       "      <th>Overall_sat</th>\n",
       "      <th>0</th>\n",
       "      <th>1</th>\n",
       "    </tr>\n",
       "    <tr>\n",
       "      <th>IR</th>\n",
       "      <th></th>\n",
       "      <th></th>\n",
       "    </tr>\n",
       "  </thead>\n",
       "  <tbody>\n",
       "    <tr>\n",
       "      <th>No</th>\n",
       "      <td>105</td>\n",
       "      <td>33</td>\n",
       "    </tr>\n",
       "    <tr>\n",
       "      <th>Solved</th>\n",
       "      <td>830</td>\n",
       "      <td>2195</td>\n",
       "    </tr>\n",
       "  </tbody>\n",
       "</table>\n",
       "</div>"
      ],
      "text/plain": [
       "Overall_sat    0     1\n",
       "IR                    \n",
       "No           105    33\n",
       "Solved       830  2195"
      ]
     },
     "execution_count": 32,
     "metadata": {},
     "output_type": "execute_result"
    }
   ],
   "source": [
    "contingency"
   ]
  },
  {
   "cell_type": "code",
   "execution_count": 33,
   "id": "2ac08a2e",
   "metadata": {},
   "outputs": [
    {
     "name": "stderr",
     "output_type": "stream",
     "text": [
      "ERROR: You must give at least one requirement to install (see \"pip help install\")\n"
     ]
    }
   ],
   "source": [
    "!pip install\n",
    "from scipy.stats import chi2_contingency\n",
    "c,p,dof, expected = chi2_contingency(contingency)"
   ]
  },
  {
   "cell_type": "code",
   "execution_count": 34,
   "id": "9d104b31",
   "metadata": {},
   "outputs": [
    {
     "data": {
      "text/plain": [
       "(147.68388794622243,\n",
       " 5.562015470937976e-34,\n",
       " 1,\n",
       " array([[  40.79355043,   97.20644957],\n",
       "        [ 894.20644957, 2130.79355043]]))"
      ]
     },
     "execution_count": 34,
     "metadata": {},
     "output_type": "execute_result"
    }
   ],
   "source": [
    "c,p,dof, expected"
   ]
  },
  {
   "cell_type": "code",
   "execution_count": 35,
   "id": "18625b33",
   "metadata": {},
   "outputs": [],
   "source": [
    "# reject null hypothesis. therefore the overall_sat and Ir are strongly associated"
   ]
  }
 ],
 "metadata": {
  "kernelspec": {
   "display_name": "Python 3",
   "language": "python",
   "name": "python3"
  },
  "language_info": {
   "codemirror_mode": {
    "name": "ipython",
    "version": 3
   },
   "file_extension": ".py",
   "mimetype": "text/x-python",
   "name": "python",
   "nbconvert_exporter": "python",
   "pygments_lexer": "ipython3",
   "version": "3.8.8"
  }
 },
 "nbformat": 4,
 "nbformat_minor": 5
}
